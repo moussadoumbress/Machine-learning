{
 "cells": [
  {
   "cell_type": "markdown",
   "metadata": {},
   "source": [
    "# Mixed model and decision trees"
   ]
  },
  {
   "cell_type": "code",
   "execution_count": 14,
   "metadata": {},
   "outputs": [],
   "source": [
    "import numpy as np\n",
    "import matplotlib.pyplot as plt\n",
    "import pandas as pd\n",
    "from sklearn.naive_bayes import GaussianNB\n",
    "from sklearn.tree import DecisionTreeClassifier\n",
    "from sklearn.impute import SimpleImputer,MissingIndicator,KNNImputer\n",
    "from sklearn.model_selection import GridSearchCV\n",
    "from sklearn.pipeline import make_pipeline"
   ]
  },
  {
   "cell_type": "code",
   "execution_count": 15,
   "metadata": {},
   "outputs": [],
   "source": [
    "df_train=pd.read_csv(\"/home/ing/Bureau/tp_AP/titanic_train.csv\")\n",
    "df_test=pd.read_csv(\"/home/ing/Bureau/tp_AP/titanic_test.csv\")\n",
    "\n",
    "df_train.drop(columns=['Name','FullName','Ticket','PassengerId'],inplace=True)\n",
    "df_test.drop(columns=['Name','FullName','Ticket','PassengerId'],inplace=True)\n",
    "Age=df_train['Age']\n",
    "Age2=df_test['Age']\n",
    "X_train2=df_train\n",
    "X_test2=df_test"
   ]
  },
  {
   "cell_type": "markdown",
   "metadata": {},
   "source": [
    "**1st strategy for Missing values: mean strategy**"
   ]
  },
  {
   "cell_type": "code",
   "execution_count": 18,
   "metadata": {},
   "outputs": [
    {
     "name": "stdout",
     "output_type": "stream",
     "text": [
      "Survived     0.000000\n",
      "Pclass       0.000000\n",
      "Sex          0.000000\n",
      "Age          0.000000\n",
      "SibSp        0.000000\n",
      "Parch        0.000000\n",
      "Fare         0.000000\n",
      "Cabin       75.885329\n",
      "Embarked     0.168634\n",
      "Child       20.236088\n",
      "Fare2        0.000000\n",
      "dtype: float64\n"
     ]
    }
   ],
   "source": [
    "print(df_train.isna().sum()*100/len(df_train))\n",
    "df_train['Age']=df_train['Age'].fillna(df_train['Age'].mean())\n",
    "df_test['Age']=df_test['Age'].fillna(df_test['Age'].mean())"
   ]
  },
  {
   "cell_type": "code",
   "execution_count": 24,
   "metadata": {},
   "outputs": [],
   "source": [
    "df_train['Child']=[np.nan for _ in range(len(df_train))]\n",
    "df_train.loc[df_train['Age']<=18,'Child']=1\n",
    "df_train.loc[df_train['Age']>18,'Child']=0\n",
    "\n",
    "fare=[]\n",
    "for i,a in df_train['Fare'].items():\n",
    "    if a<=10:\n",
    "        fare.append(0)\n",
    "    if (a<=20 and a>10):\n",
    "        fare.append(1)\n",
    "    if (a<=30 and a>20):\n",
    "        fare.append(2)\n",
    "    if (a>30):\n",
    "        fare.append(3)\n",
    "    \n",
    "df_train['Fare2']=fare\n",
    "\n",
    "\n",
    "\n",
    "df_train.loc[df_train['Sex']=='male','Sex']=int(1)\n",
    "df_train.loc[df_train['Sex']=='female','Sex']=int(0)\n",
    "df_train['Child']=df_train['Child'].astype(int)\n",
    "#df_train.drop(columns=['Cabin'],inplace=True)\n",
    "df_train.drop('Survived',axis=1,inplace=True)"
   ]
  },
  {
   "cell_type": "code",
   "execution_count": 23,
   "metadata": {},
   "outputs": [],
   "source": [
    "df_test['Child']=[np.nan for _ in range(len(df_test))]\n",
    "df_test.loc[df_test['Age']<=18,'Child']=1\n",
    "df_test.loc[df_test['Age']>18,'Child']=0\n",
    "\n",
    "fare=[]\n",
    "for i,a in df_test['Fare'].items():\n",
    "    if a<=10:\n",
    "        fare.append(0)\n",
    "    if (a<=20 and a>10):\n",
    "        fare.append(1)\n",
    "    if (a<=30 and a>20):\n",
    "        fare.append(2)\n",
    "    if (a>30):\n",
    "        fare.append(3)\n",
    "    \n",
    "df_test['Fare2']=fare\n",
    "\n",
    "\n",
    "\n",
    "df_test.loc[df_test['Sex']=='male','Sex']=int(1)\n",
    "df_test.loc[df_test['Sex']=='female','Sex']=int(0)\n",
    "df_test['Child']=df_test['Child'].astype(int)\n",
    "#df_train.drop(columns=['Cabin'],inplace=True)\n",
    "df_test.drop('Survived',axis=1,inplace=True)"
   ]
  },
  {
   "cell_type": "code",
   "execution_count": 7,
   "metadata": {},
   "outputs": [
    {
     "data": {
      "text/html": [
       "<div>\n",
       "<style scoped>\n",
       "    .dataframe tbody tr th:only-of-type {\n",
       "        vertical-align: middle;\n",
       "    }\n",
       "\n",
       "    .dataframe tbody tr th {\n",
       "        vertical-align: top;\n",
       "    }\n",
       "\n",
       "    .dataframe thead th {\n",
       "        text-align: right;\n",
       "    }\n",
       "</style>\n",
       "<table border=\"1\" class=\"dataframe\">\n",
       "  <thead>\n",
       "    <tr style=\"text-align: right;\">\n",
       "      <th></th>\n",
       "      <th>Child</th>\n",
       "      <th>Sex</th>\n",
       "      <th>Pclass</th>\n",
       "      <th>Fare2</th>\n",
       "    </tr>\n",
       "  </thead>\n",
       "  <tbody>\n",
       "    <tr>\n",
       "      <th>0</th>\n",
       "      <td>0</td>\n",
       "      <td>1</td>\n",
       "      <td>1</td>\n",
       "      <td>3</td>\n",
       "    </tr>\n",
       "    <tr>\n",
       "      <th>1</th>\n",
       "      <td>0</td>\n",
       "      <td>0</td>\n",
       "      <td>1</td>\n",
       "      <td>3</td>\n",
       "    </tr>\n",
       "    <tr>\n",
       "      <th>2</th>\n",
       "      <td>0</td>\n",
       "      <td>0</td>\n",
       "      <td>3</td>\n",
       "      <td>0</td>\n",
       "    </tr>\n",
       "    <tr>\n",
       "      <th>3</th>\n",
       "      <td>0</td>\n",
       "      <td>1</td>\n",
       "      <td>3</td>\n",
       "      <td>2</td>\n",
       "    </tr>\n",
       "    <tr>\n",
       "      <th>4</th>\n",
       "      <td>0</td>\n",
       "      <td>1</td>\n",
       "      <td>3</td>\n",
       "      <td>0</td>\n",
       "    </tr>\n",
       "    <tr>\n",
       "      <th>...</th>\n",
       "      <td>...</td>\n",
       "      <td>...</td>\n",
       "      <td>...</td>\n",
       "      <td>...</td>\n",
       "    </tr>\n",
       "    <tr>\n",
       "      <th>588</th>\n",
       "      <td>0</td>\n",
       "      <td>1</td>\n",
       "      <td>2</td>\n",
       "      <td>1</td>\n",
       "    </tr>\n",
       "    <tr>\n",
       "      <th>589</th>\n",
       "      <td>0</td>\n",
       "      <td>0</td>\n",
       "      <td>1</td>\n",
       "      <td>2</td>\n",
       "    </tr>\n",
       "    <tr>\n",
       "      <th>590</th>\n",
       "      <td>0</td>\n",
       "      <td>0</td>\n",
       "      <td>3</td>\n",
       "      <td>2</td>\n",
       "    </tr>\n",
       "    <tr>\n",
       "      <th>591</th>\n",
       "      <td>0</td>\n",
       "      <td>1</td>\n",
       "      <td>1</td>\n",
       "      <td>2</td>\n",
       "    </tr>\n",
       "    <tr>\n",
       "      <th>592</th>\n",
       "      <td>0</td>\n",
       "      <td>1</td>\n",
       "      <td>3</td>\n",
       "      <td>0</td>\n",
       "    </tr>\n",
       "  </tbody>\n",
       "</table>\n",
       "<p>593 rows × 4 columns</p>\n",
       "</div>"
      ],
      "text/plain": [
       "     Child Sex  Pclass  Fare2\n",
       "0        0   1       1      3\n",
       "1        0   0       1      3\n",
       "2        0   0       3      0\n",
       "3        0   1       3      2\n",
       "4        0   1       3      0\n",
       "..     ...  ..     ...    ...\n",
       "588      0   1       2      1\n",
       "589      0   0       1      2\n",
       "590      0   0       3      2\n",
       "591      0   1       1      2\n",
       "592      0   1       3      0\n",
       "\n",
       "[593 rows x 4 columns]"
      ]
     },
     "execution_count": 7,
     "metadata": {},
     "output_type": "execute_result"
    }
   ],
   "source": [
    "X_train=df_train[['Child','Sex','Pclass','Fare2']]\n",
    "y_train=df_train['Survived']\n",
    "X_test=df_test[['Child','Sex','Pclass','Fare2']]\n",
    "y_test=df_test['Survived']\n",
    "X_train"
   ]
  },
  {
   "cell_type": "code",
   "execution_count": 8,
   "metadata": {},
   "outputs": [
    {
     "data": {
      "text/plain": [
       "0.6912751677852349"
      ]
     },
     "execution_count": 8,
     "metadata": {},
     "output_type": "execute_result"
    }
   ],
   "source": [
    "gnb=GaussianNB()\n",
    "gnb.fit(X_train,y_train)\n",
    "gnb.score(X_test,y_test)"
   ]
  },
  {
   "cell_type": "markdown",
   "metadata": {},
   "source": [
    "## Comments\n",
    "The results are better than the previous one. We won 6 points of score: there is clearly an improvement because we added new features to our train and test sets which improve the ability of our model to interprete the data."
   ]
  },
  {
   "cell_type": "markdown",
   "metadata": {},
   "source": [
    "## Decision tree"
   ]
  },
  {
   "cell_type": "code",
   "execution_count": 9,
   "metadata": {},
   "outputs": [
    {
     "data": {
      "text/plain": [
       "0.7483221476510067"
      ]
     },
     "execution_count": 9,
     "metadata": {},
     "output_type": "execute_result"
    }
   ],
   "source": [
    "tree=DecisionTreeClassifier(random_state=0)\n",
    "tree.fit(X_train,y_train)\n",
    "tree.score(X_test,y_test)"
   ]
  },
  {
   "cell_type": "markdown",
   "metadata": {},
   "source": [
    "## Comments\n",
    "The score obtained with decision  classifier is much better than the naive's bayes classifier"
   ]
  },
  {
   "cell_type": "markdown",
   "metadata": {},
   "source": [
    "## performing the decision tree classifier and second missing values strategy"
   ]
  },
  {
   "cell_type": "code",
   "execution_count": 26,
   "metadata": {},
   "outputs": [],
   "source": [
    "X_train2['Age']=Age\n",
    "X_train2['Child']=[np.nan for _ in range(len(df_train))]\n",
    "X_train2.loc[df_train['Age']<=18,'Child']=int(1)\n",
    "X_train2.loc[df_train['Age']>18,'Child']=int(0)\n",
    "X_train2['Cabin']=X_train2['Cabin'].factorize()[0]\n",
    "X_train2.loc[X_train2['Cabin']==0,'Cabin']=np.nan\n",
    "X_train2['Embarked']=X_train2['Embarked'].factorize()[0]\n",
    "##\n",
    "X_test2['Age']=Age2\n",
    "X_test2['Child']=[np.nan for _ in range(len(df_test))]\n",
    "X_test2.loc[df_test['Age']<=18,'Child']=int(1)\n",
    "X_test2.loc[df_test['Age']>18,'Child']=int(0)\n",
    "X_test2['Cabin']=X_test2['Cabin'].factorize()[0]\n",
    "X_test2.loc[X_test2['Cabin']==0,'Cabin']=np.nan\n",
    "X_test2['Embarked']=X_test2['Embarked'].factorize()[0]\n"
   ]
  },
  {
   "cell_type": "code",
   "execution_count": 32,
   "metadata": {},
   "outputs": [
    {
     "data": {
      "text/plain": [
       "0.7958695342543798"
      ]
     },
     "execution_count": 32,
     "metadata": {},
     "output_type": "execute_result"
    }
   ],
   "source": [
    "model=make_pipeline(KNNImputer(),DecisionTreeClassifier(max_depth=3,random_state=0))\n",
    "param={\n",
    "    'knnimputer__n_neighbors':[1,2,3,4,5,6,7]\n",
    "}\n",
    "grid=GridSearchCV(model,param_grid=param,cv=5)\n",
    "\n",
    "grid.fit(X_train2,y_train)\n",
    "grid.best_score_"
   ]
  },
  {
   "cell_type": "code",
   "execution_count": 33,
   "metadata": {},
   "outputs": [
    {
     "data": {
      "text/plain": [
       "0.7046979865771812"
      ]
     },
     "execution_count": 33,
     "metadata": {},
     "output_type": "execute_result"
    }
   ],
   "source": [
    "best_model=grid.best_estimator_\n",
    "best_model.score(X_test2,y_test)"
   ]
  },
  {
   "cell_type": "code",
   "execution_count": null,
   "metadata": {},
   "outputs": [],
   "source": [
    "from sklearn.model_selection import learning_curve"
   ]
  }
 ],
 "metadata": {
  "kernelspec": {
   "display_name": "Python 3.8.10 64-bit",
   "language": "python",
   "name": "python3"
  },
  "language_info": {
   "codemirror_mode": {
    "name": "ipython",
    "version": 3
   },
   "file_extension": ".py",
   "mimetype": "text/x-python",
   "name": "python",
   "nbconvert_exporter": "python",
   "pygments_lexer": "ipython3",
   "version": "3.8.10"
  },
  "orig_nbformat": 4,
  "vscode": {
   "interpreter": {
    "hash": "916dbcbb3f70747c44a77c7bcd40155683ae19c65e1c03b4aa3499c5328201f1"
   }
  }
 },
 "nbformat": 4,
 "nbformat_minor": 2
}
