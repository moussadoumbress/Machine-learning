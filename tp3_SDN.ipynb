{
 "cells": [
  {
   "cell_type": "code",
   "execution_count": 1,
   "metadata": {},
   "outputs": [],
   "source": [
    "import numpy as np\n",
    "from numpy.linalg import norm\n",
    "from sklearn import datasets,neighbors\n",
    "from sklearn.metrics.pairwise import euclidean_distances,pairwise_distances_argmin\n",
    "from sklearn.model_selection import LeaveOneOut, cross_val_score\n",
    "from statistics import mode\n",
    "iris=datasets.load_iris()\n",
    "X=iris.data\n",
    "y=iris.target\n"
   ]
  },
  {
   "cell_type": "code",
   "execution_count": 2,
   "metadata": {},
   "outputs": [
    {
     "name": "stdout",
     "output_type": "stream",
     "text": [
      "[ 17  12  47   0  37   2   0  39  38  34  48   1  34  38  33  10   0  40\n",
      "   4  21  19  46   7  26   9  34   0  27  39  29  34  36  32   9  45  49\n",
      "   4   8   7  17  49  38  26   5   1  19   3  10   7  98  52  50  86  89\n",
      "  58  51  85  93  75  89  93  96  54  91  58  75  84  92  87  80 138  97\n",
      "  63  91  65  58  52  63  91  69  80  67  92  66  56  52  68  61  95  94\n",
      "  63  82  57  90  88  95  99  57  96 138  83 142 125 116 132 122 105 130\n",
      " 128  77 147 147 139 142 110 103 137 131 122 112 143 105  72 126 143 123\n",
      " 126 138 132 107 117 128  83 146 130 115 116 127 112 120 144 101 120 140\n",
      " 141 123 110 136 127]\n"
     ]
    },
    {
     "data": {
      "text/plain": [
       "0.05333333333333334"
      ]
     },
     "execution_count": 2,
     "metadata": {},
     "output_type": "execute_result"
    }
   ],
   "source": [
    "from numpy import append, vstack\n",
    "from pyparsing import disable_diag\n",
    "\n",
    "\n",
    "def PPV(X,y):\n",
    "    dist_XX=euclidean_distances(X,X)\n",
    "    d=np.zeros((len(dist_XX),len(dist_XX)-1))\n",
    "    \n",
    "    for i in range(len(dist_XX)):\n",
    "        d[i]=np.delete(dist_XX[i],i)\n",
    "    \n",
    "    \n",
    "    \n",
    "    ppd=d.argmin(axis=0)\n",
    "    print(ppd)\n",
    "    labld=np.zeros((150,))\n",
    "    for i in range(len(ppd)):\n",
    "       labld[i]=y[ppd[i]]\n",
    "    \n",
    "\n",
    "    \n",
    "    \n",
    "    predit=np.concatenate((X,labld.reshape(150,1)),axis=1)\n",
    "    e=list(y!=labld).count(True)/150\n",
    "    \n",
    "    return e\n",
    "PPV(X,y)\n",
    "\n",
    "\n"
   ]
  },
  {
   "cell_type": "code",
   "execution_count": 3,
   "metadata": {},
   "outputs": [
    {
     "name": "stdout",
     "output_type": "stream",
     "text": [
      "0.96\n"
     ]
    }
   ],
   "source": [
    "loo=LeaveOneOut()\n",
    "knn=neighbors.KNeighborsClassifier(n_neighbors=1)\n",
    "score=[]\n",
    "for train, test in loo.split(X,y):\n",
    "    knn.fit(X[train],y[train])\n",
    "    scores=knn.score(X[test],y[test])\n",
    "    \n",
    "    score.append(scores)\n",
    "s=0\n",
    "for e in score:\n",
    "    s +=e\n",
    "scor=s/150\n",
    "print(scor)\n",
    "\n"
   ]
  },
  {
   "cell_type": "code",
   "execution_count": 23,
   "metadata": {},
   "outputs": [
    {
     "data": {
      "text/plain": [
       "array([0., 0., 0., 0., 0., 0., 0., 0., 0., 0., 0., 0., 0., 0., 0., 0., 0.,\n",
       "       0., 0., 0., 0., 0., 0., 0., 0., 0., 0., 0., 0., 0., 0., 0., 0., 0.,\n",
       "       0., 0., 0., 0., 0., 0., 0., 0., 0., 0., 0., 0., 0., 0., 0., 0., 1.,\n",
       "       1., 1., 1., 1., 1., 1., 1., 1., 1., 1., 1., 1., 1., 1., 1., 1., 1.,\n",
       "       1., 1., 2., 1., 2., 1., 1., 1., 1., 1., 1., 1., 1., 1., 1., 2., 1.,\n",
       "       1., 1., 1., 1., 1., 1., 1., 1., 1., 1., 1., 1., 1., 1., 1., 2., 2.,\n",
       "       2., 2., 2., 2., 1., 2., 2., 2., 2., 2., 2., 2., 2., 2., 2., 2., 2.,\n",
       "       1., 2., 2., 2., 2., 2., 2., 2., 2., 2., 2., 2., 2., 2., 1., 2., 2.,\n",
       "       2., 2., 2., 2., 2., 2., 2., 2., 2., 2., 2., 2., 2., 2.])"
      ]
     },
     "execution_count": 23,
     "metadata": {},
     "output_type": "execute_result"
    }
   ],
   "source": [
    "def PPV(X,y,k):\n",
    "    dist_XX=euclidean_distances(X,X)\n",
    "    d=np.zeros((len(dist_XX),len(dist_XX)-1))\n",
    "    \n",
    "    for i in range(len(dist_XX)):\n",
    "        d[i]=np.delete(dist_XX[i],i)\n",
    "    \n",
    "    predict=np.zeros((X.shape[0],))\n",
    "    for i in range(X.shape[0]):\n",
    "        d_i=d[i,:]\n",
    "        idx_sort=np.argsort(d_i)\n",
    "        \n",
    "        neigh=idx_sort[0:k]\n",
    "        predict[i]=mode(y[neigh])\n",
    "    return predict\n",
    "\n",
    "PPV(X,y,1)\n"
   ]
  },
  {
   "cell_type": "code",
   "execution_count": 57,
   "metadata": {},
   "outputs": [
    {
     "name": "stdout",
     "output_type": "stream",
     "text": [
      "0.07333333333333333\n"
     ]
    }
   ],
   "source": [
    "def CNB(X,y):\n",
    "    #barycentres des classes\n",
    "    #probabilité d'appartenance à priori de chaque classe\n",
    "    p=len(np.unique(y))\n",
    "    proba_class=np.zeros((p,))\n",
    "    class_mean=np.zeros((p,X.shape[1]))\n",
    "    for i,c in enumerate(np.unique(y)):\n",
    "        x=X[y==c]\n",
    "        proba_class[i]=len(x)/len(X)\n",
    "        class_mean[i]=x.mean(axis=0)\n",
    "    #probalité d'une donnée d'appartenir à une classe\n",
    "    proba_cond=np.zeros((X.shape[0],p))\n",
    "    d_ij=np.zeros((X.shape[0],p))\n",
    "    one=np.ones((X.shape[0],p))\n",
    "    for i,d in enumerate(X):\n",
    "        for j,w in enumerate(class_mean):\n",
    "            n=norm(d-w,ord=2)\n",
    "            d_ij[i,j]=n \n",
    "        d_ij[i,:]=d_ij[i,:]/d_ij[i,:].sum()\n",
    "    proba_cond=one-d_ij\n",
    "    # prédire la classe qui maximise la probabilité d'appartenance\n",
    "    predit=np.zeros((X.shape[0],))\n",
    "    pred_i=np.zeros((X.shape[0],))\n",
    "    for i,d in enumerate(proba_cond):\n",
    "        pred_i[i]=np.argmax(proba_cond[i]*proba_class)\n",
    "    #calculer l'erreur de prédiction \n",
    "    e=list(pred_i != y).count(True)/len(X)\n",
    "    \n",
    "    return e\n",
    "print(CNB(X,y))\n",
    "\n",
    "    \n",
    "    \n",
    "    \n"
   ]
  },
  {
   "cell_type": "code",
   "execution_count": 53,
   "metadata": {},
   "outputs": [
    {
     "name": "stdout",
     "output_type": "stream",
     "text": [
      "0.9533333333333334\n"
     ]
    }
   ],
   "source": [
    "from sklearn.naive_bayes import GaussianNB\n",
    "gnb=GaussianNB()\n",
    "score=[]\n",
    "for train, test in loo.split(X,y):\n",
    "    gnb.fit(X[train],y[train])\n",
    "    scores=gnb.score(X[test],y[test])\n",
    "    \n",
    "    score.append(scores)\n",
    "s=0\n",
    "for e in score:\n",
    "    s +=e\n",
    "scor=s/150\n",
    "print(scor)"
   ]
  }
 ],
 "metadata": {
  "kernelspec": {
   "display_name": "Python 3.8.10 64-bit",
   "language": "python",
   "name": "python3"
  },
  "language_info": {
   "codemirror_mode": {
    "name": "ipython",
    "version": 3
   },
   "file_extension": ".py",
   "mimetype": "text/x-python",
   "name": "python",
   "nbconvert_exporter": "python",
   "pygments_lexer": "ipython3",
   "version": "3.10.6"
  },
  "orig_nbformat": 4,
  "vscode": {
   "interpreter": {
    "hash": "916dbcbb3f70747c44a77c7bcd40155683ae19c65e1c03b4aa3499c5328201f1"
   }
  }
 },
 "nbformat": 4,
 "nbformat_minor": 2
}
