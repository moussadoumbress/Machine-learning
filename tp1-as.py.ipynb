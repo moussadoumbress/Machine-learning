{
 "cells": [
  {
   "cell_type": "code",
   "execution_count": 2,
   "metadata": {},
   "outputs": [
    {
     "data": {
      "text/plain": [
       "(array([ 90.,  94.,  91.,  94., 124., 106., 105.,  88.,  99., 109.]),\n",
       " array([0.01959122, 1.01758723, 2.01558325, 3.01357926, 4.01157528,\n",
       "        5.00957129, 6.0075673 , 7.00556332, 8.00355933, 9.00155535,\n",
       "        9.99955136]),\n",
       " <BarContainer object of 10 artists>)"
      ]
     },
     "execution_count": 2,
     "metadata": {},
     "output_type": "execute_result"
    },
    {
     "data": {
      "image/png": "[encoded data removed]",
      "text/plain": [
       "<Figure size 640x480 with 1 Axes>"
      ]
     },
     "metadata": {},
     "output_type": "display_data"
    }
   ],
   "source": [
    "import numpy.random as npr\n",
    "import matplotlib.pyplot as plt\n",
    "a1=10*npr.rand(1000)\n",
    "plt.hist(a1)"
   ]
  },
  {
   "cell_type": "code",
   "execution_count": 20,
   "metadata": {},
   "outputs": [
    {
     "name": "stdout",
     "output_type": "stream",
     "text": [
      "0\n"
     ]
    }
   ],
   "source": [
    "def mode(a):\n",
    "    mode0=0\n",
    "    a_classe=[]\n",
    "    for i in range(10):\n",
    "        count=0\n",
    "        for v in a:\n",
    "            if (v<i+1 and v>=i):\n",
    "                count +=1\n",
    "            a_classe.append(count)\n",
    "    for j in range(len(a_classe)):\n",
    "        if a_classe[j]>=mode0:\n",
    "            mode0=a_classe[j]\n",
    "    return a[mode0]\n",
    "\n",
    "aa=[1,0,-20,7]\n",
    "print(mode(aa))"
   ]
  },
  {
   "cell_type": "code",
   "execution_count": 9,
   "metadata": {},
   "outputs": [
    {
     "name": "stdout",
     "output_type": "stream",
     "text": [
      "0.5\n"
     ]
    }
   ],
   "source": [
    "def median (a):\n",
    "    a_ordonne=sorted(a)\n",
    "    #for i in range(len(a)):\n",
    "      #  for j in range(i,len(a)):\n",
    "       #     if a[j]<a[i]:\n",
    "        #        a_ordonne[i]=a[j]\n",
    "                #a_ordonne[j]=a_ordonne[i]\n",
    "                #i=j\n",
    "    if len(a)%2==1:\n",
    "        mediane=a_ordonne[(len(a)+1)//2]\n",
    "    else:\n",
    "        medianne= (a_ordonne[(len(a)//2)-1]+a_ordonne[(len(a)//2)])/2\n",
    "    return medianne\n",
    "aa=[1,0,-20,7]\n",
    "print(median(aa))\n",
    "\n"
   ]
  },
  {
   "cell_type": "code",
   "execution_count": 6,
   "metadata": {},
   "outputs": [
    {
     "name": "stdout",
     "output_type": "stream",
     "text": [
      "5.072541179511859\n",
      "5.072541179511861\n"
     ]
    }
   ],
   "source": [
    "import numpy as np\n",
    "def mean(a):\n",
    "    s=0\n",
    "    for i in range(len(a)):\n",
    "        s +=a[i]\n",
    "    return s/len(a)\n",
    "print(mean(a1))\n",
    "m=np.mean(a1)\n",
    "print(m)\n",
    "\n"
   ]
  },
  {
   "cell_type": "code",
   "execution_count": 1,
   "metadata": {},
   "outputs": [
    {
     "ename": "NameError",
     "evalue": "name 'a1' is not defined",
     "output_type": "error",
     "traceback": [
      "\u001b[0;31m---------------------------------------------------------------------------\u001b[0m",
      "\u001b[0;31mNameError\u001b[0m                                 Traceback (most recent call last)",
      "Cell \u001b[0;32mIn [1], line 7\u001b[0m\n\u001b[1;32m      5\u001b[0m     variance_standard\u001b[38;5;241m=\u001b[39mnp\u001b[38;5;241m.\u001b[39msqrt(variance)\n\u001b[1;32m      6\u001b[0m     \u001b[38;5;28;01mreturn\u001b[39;00m (\u001b[38;5;28mrange\u001b[39m,variance,variance_standard)\n\u001b[0;32m----> 7\u001b[0m \u001b[38;5;28mprint\u001b[39m(EVE(\u001b[43ma1\u001b[49m))\n",
      "\u001b[0;31mNameError\u001b[0m: name 'a1' is not defined"
     ]
    }
   ],
   "source": [
    "import numpy as np\n",
    "def EVE(a):\n",
    "    range=max(a)-min(a)\n",
    "    variance=mean((a-mean(a))**2)\n",
    "    variance_standard=np.sqrt(variance)\n",
    "    return (range,variance,variance_standard)\n",
    "print(EVE(a1))"
   ]
  },
  {
   "cell_type": "code",
   "execution_count": 17,
   "metadata": {},
   "outputs": [
    {
     "data": {
      "image/png": "[encoded data removed]",
      "text/plain": [
       "<Figure size 640x480 with 1 Axes>"
      ]
     },
     "metadata": {},
     "output_type": "display_data"
    }
   ],
   "source": [
    "from scipy.stats import norm\n",
    "x=npr.normal(0,1,1000)\n",
    "plt.hist(x)\n",
    "y= x[x<5]\n",
    "#xx=np.linspace(norm.ppf(0.01),\n",
    "\n",
    "                #norm.ppf(0.99), 100)\n",
    "\n",
    "#plt.plot(xx,norm.pdf(xx),'r-', lw=5, alpha=0.6)\n"
   ]
  },
  {
   "cell_type": "code",
   "execution_count": 8,
   "metadata": {},
   "outputs": [
    {
     "name": "stdout",
     "output_type": "stream",
     "text": [
      "22.805555555555554\n"
     ]
    },
    {
     "data": {
      "text/plain": [
       "22.80555555555555"
      ]
     },
     "execution_count": 8,
     "metadata": {},
     "output_type": "execute_result"
    }
   ],
   "source": [
    "dat=np.array([1,-1,0,7,-9,-3])\n",
    "def var(data):\n",
    "    s=0\n",
    "    for i in range(len(data)):\n",
    "        s+=data[i]\n",
    "    m=s/len(data)\n",
    "    a=0\n",
    "    for j in range(len(data)):\n",
    "        a+=(data[j]-m)**2\n",
    "    var_=a/len(data)\n",
    "    return var_\n",
    "\n",
    "data=list(dat)\n",
    "print(var(data))\n",
    "(dat.std())**2"
   ]
  }
 ],
 "metadata": {
  "kernelspec": {
   "display_name": "Python 3.8.10 64-bit",
   "language": "python",
   "name": "python3"
  },
  "language_info": {
   "codemirror_mode": {
    "name": "ipython",
    "version": 3
   },
   "file_extension": ".py",
   "mimetype": "text/x-python",
   "name": "python",
   "nbconvert_exporter": "python",
   "pygments_lexer": "ipython3",
   "version": "3.8.10"
  },
  "orig_nbformat": 4,
  "vscode": {
   "interpreter": {
    "hash": "916dbcbb3f70747c44a77c7bcd40155683ae19c65e1c03b4aa3499c5328201f1"
   }
  }
 },
 "nbformat": 4,
 "nbformat_minor": 2
}
